{
  "nbformat": 4,
  "nbformat_minor": 0,
  "metadata": {
    "colab": {
      "provenance": [],
      "include_colab_link": true
    },
    "kernelspec": {
      "name": "python3",
      "display_name": "Python 3"
    },
    "language_info": {
      "name": "python"
    }
  },
  "cells": [
    {
      "cell_type": "markdown",
      "metadata": {
        "id": "view-in-github",
        "colab_type": "text"
      },
      "source": [
        "<a href=\"https://colab.research.google.com/github/SandyLlapa/ML-LinearReg/blob/main/SandyLlapa_Lab_4.ipynb\" target=\"_parent\"><img src=\"https://colab.research.google.com/assets/colab-badge.svg\" alt=\"Open In Colab\"/></a>"
      ]
    },
    {
      "cell_type": "markdown",
      "source": [
        "# Lab 4"
      ],
      "metadata": {
        "id": "SdOOZ-QPA0F1"
      }
    },
    {
      "cell_type": "markdown",
      "metadata": {
        "id": "jF3UCdQ0JDy1"
      },
      "source": [
        "## Introduction"
      ]
    },
    {
      "cell_type": "markdown",
      "metadata": {
        "id": "HTmqZSYPJIMT"
      },
      "source": [
        "**What is the goal of this lab?**\n",
        "\n",
        "This lab goes over the steps to build a linear regression model with both categorical and numerical features, along with the statistical tests that should be run to help better understand the data for the model.\n",
        "\n",
        "**Context**\n",
        "\n",
        "Linear regression is one of the most fundamental and widely used tools in data analysis. Its simplicity makes it an ideal starting point for understanding the basics of predictive modeling. By establishing a relationship between variables, linear regression allows us to make informed predictions and gain insights into data trends. Mastering linear regression is essential for developing the skills needed to analyze and interpret data effectively, laying the groundwork for more advanced analytical techniques.\n"
      ]
    },
    {
      "cell_type": "markdown",
      "metadata": {
        "id": "frsdUIBlPNUH"
      },
      "source": [
        "### Data"
      ]
    },
    {
      "cell_type": "markdown",
      "metadata": {
        "id": "BmsbVEtIPO7O"
      },
      "source": [
        "This lab uses the energy efficieny data set 💡. It contains data about the energy efficiency of shapes and specifications of buildings.\n",
        "\n",
        "For more information you can check out the original research paper that introduced this data set [Accurate quantitative estimation of energy performance of residential buildings using statistical machine learning tools](https://www.sciencedirect.com/science/article/pii/S037877881200151X)."
      ]
    },
    {
      "cell_type": "code",
      "execution_count": null,
      "metadata": {
        "id": "AjBgpONoJzDM"
      },
      "outputs": [],
      "source": [
        "# Install package to download data sets from UCI ML Repo\n",
        "!pip3 install -U ucimlrepo --quiet\n",
        "from ucimlrepo import fetch_ucirepo"
      ]
    },
    {
      "cell_type": "code",
      "execution_count": null,
      "metadata": {
        "id": "x3yRlRlsKBZT"
      },
      "outputs": [],
      "source": [
        "# Get the data set\n",
        "energy = fetch_ucirepo(name=\"Energy Efficiency\")"
      ]
    },
    {
      "cell_type": "code",
      "execution_count": null,
      "metadata": {
        "id": "0gEU7v6JPUhC"
      },
      "outputs": [],
      "source": [
        "# Get raw data in a pandas.DataFrame format\n",
        "energy_df = energy.data.original"
      ]
    },
    {
      "cell_type": "code",
      "execution_count": null,
      "metadata": {
        "id": "XxA4sCdD5-TS",
        "colab": {
          "base_uri": "https://localhost:8080/"
        },
        "outputId": "1545c9b7-e167-468b-aab1-99d4496a919c"
      },
      "outputs": [
        {
          "output_type": "stream",
          "name": "stdout",
          "text": [
            "Citation:\n",
            " None\n"
          ]
        }
      ],
      "source": [
        "# Citation\n",
        "print(\"Citation:\\n\", energy.metadata.additional_info.citation)"
      ]
    },
    {
      "cell_type": "markdown",
      "metadata": {
        "id": "QRsoz9tL6W25"
      },
      "source": [
        "> _Tsanas, Athanasios and Xifara, Angeliki. (2012). Energy Efficiency.     \n",
        "UCI Machine Learning Repository. https://doi.org/10.24432/C51307._"
      ]
    },
    {
      "cell_type": "code",
      "execution_count": null,
      "metadata": {
        "id": "gQVtuWpzQYLX",
        "colab": {
          "base_uri": "https://localhost:8080/"
        },
        "outputId": "e8da7793-5e6e-413f-ef7b-21dab9677a88"
      },
      "outputs": [
        {
          "output_type": "stream",
          "name": "stdout",
          "text": [
            "Check out this data set on the UCI ML Repository for more information:\n",
            "https://archive.ics.uci.edu/dataset/242/energy+efficiency\n"
          ]
        }
      ],
      "source": [
        "# More information\n",
        "print(\"Check out this data set on the UCI ML Repository for more information:\")\n",
        "print(energy.metadata.repository_url)"
      ]
    },
    {
      "cell_type": "markdown",
      "metadata": {
        "id": "-X5GtSIIJfE2"
      },
      "source": [
        "## Problem Statement"
      ]
    },
    {
      "cell_type": "markdown",
      "source": [
        "**Why could it be beneficial to predict the heating or cooling amount of energy for a building? Explain 2 possible reasons or use cases.**"
      ],
      "metadata": {
        "id": "9oPWQ87O6Ky7"
      }
    },
    {
      "cell_type": "markdown",
      "source": [
        ">\n",
        "\n",
        "Optimizing energy usage is one of the key reasons for predicting the heating or cooling energy requirements of a building. By accurately predicting energy needs, the thermostat can be adjusted to reduce energy consumption. Optimizing energy usage also helps with cost savings. By reducing energy use, money can be saved on utility bills.\n"
      ],
      "metadata": {
        "id": "A7pDHaQnIt8y"
      }
    },
    {
      "cell_type": "markdown",
      "source": [
        "**Explain what each the following assumptions of linear regression are and how you could validate them:**\n",
        "- **Homoscedasticity**\n",
        "- **No Multicollinearity**\n",
        "- **No Autocorrelation**"
      ],
      "metadata": {
        "id": "FiF5EC276V5Y"
      }
    },
    {
      "cell_type": "markdown",
      "source": [
        ">\n",
        "Homoscedasticity: This refers to a situation in which the error term is constant across all values of the independent variable. To validate homoscedasticity, you can plot the residuals against the predicted values; the data points should appear randomly scattered.\n",
        "\n",
        "No Multicollinearity: This refers to not having two or more independent variables that are highly correlated. To validate multicollinearity, check the correlation coefficient values. High correlation values indicate potential multicollinearity.\n",
        "\n",
        "No Autocorrelation: This means that the residuals of a regression model are independent of each other. To validate autocorrelation, you can plot the residuals over time to determine if there is any pattern.\n",
        "\n",
        "\n"
      ],
      "metadata": {
        "id": "luj0-dkwqrUX"
      }
    },
    {
      "cell_type": "markdown",
      "metadata": {
        "id": "3dnGPZ__Je8P"
      },
      "source": [
        "## Exploratory Data Analysis"
      ]
    },
    {
      "cell_type": "code",
      "execution_count": null,
      "metadata": {
        "id": "bw1QSYe-j-Vb"
      },
      "outputs": [],
      "source": [
        "import numpy as np\n",
        "import pandas as pd\n",
        "import matplotlib.pyplot as plt\n",
        "import seaborn as sns"
      ]
    },
    {
      "cell_type": "markdown",
      "metadata": {
        "id": "4lbVT8VLOGLW"
      },
      "source": [
        "### Data Inspection"
      ]
    },
    {
      "cell_type": "markdown",
      "metadata": {
        "id": "pCuVta1XOnSo"
      },
      "source": [
        "Print out the following details about the data:\n",
        "- The first 5 rows of the data set\n",
        "- Number of rows and columns\n",
        "- Data type of each column\n",
        "- Number of null values (or not-null values) in each column\n",
        "- General statistics of each numeric column (min, max, mean, standard deviation)\n",
        "\n",
        "---\n",
        "\n",
        "**Hints**\n",
        "\n",
        "- [`pandas.DataFrame.head()`](https://pandas.pydata.org/docs/reference/api/pandas.DataFrame.head.html)\n",
        "- [`pandas.DataFrame.info()`](https://pandas.pydata.org/docs/reference/api/pandas.DataFrame.info.html)\n",
        "- [`pandas.DataFrame.describe()`](https://pandas.pydata.org/docs/reference/api/pandas.DataFrame.describe.html)"
      ]
    },
    {
      "cell_type": "code",
      "execution_count": null,
      "metadata": {
        "id": "eDR3s51bwbRg",
        "colab": {
          "base_uri": "https://localhost:8080/"
        },
        "outputId": "08652ae5-f8ed-4a41-cf2d-11337a037dbd"
      },
      "outputs": [
        {
          "output_type": "stream",
          "name": "stdout",
          "text": [
            "First 5 rows: \n",
            "   relative_compactness  surface_area  wall_area  roof_area  overall_height  \\\n",
            "0                  0.98         514.5      294.0     110.25             7.0   \n",
            "1                  0.98         514.5      294.0     110.25             7.0   \n",
            "2                  0.98         514.5      294.0     110.25             7.0   \n",
            "3                  0.98         514.5      294.0     110.25             7.0   \n",
            "4                  0.90         563.5      318.5     122.50             7.0   \n",
            "\n",
            "  orientation  glazing_area glazing_area_distribution  heating_load  \\\n",
            "0       North           0.0                No glazing         15.55   \n",
            "1        East           0.0                No glazing         15.55   \n",
            "2       South           0.0                No glazing         15.55   \n",
            "3        West           0.0                No glazing         15.55   \n",
            "4       North           0.0                No glazing         20.84   \n",
            "\n",
            "   cooling_load  \n",
            "0         21.33  \n",
            "1         21.33  \n",
            "2         21.33  \n",
            "3         21.33  \n",
            "4         28.28  \n",
            "\n",
            "Number of rows and columns: \n",
            "(768, 10)\n",
            "\n",
            "Data type of each column: \n",
            "relative_compactness         float64\n",
            "surface_area                 float64\n",
            "wall_area                    float64\n",
            "roof_area                    float64\n",
            "overall_height               float64\n",
            "orientation                   object\n",
            "glazing_area                 float64\n",
            "glazing_area_distribution     object\n",
            "heating_load                 float64\n",
            "cooling_load                 float64\n",
            "dtype: object\n",
            "\n",
            "Number of null values: \n",
            "relative_compactness         0\n",
            "surface_area                 0\n",
            "wall_area                    0\n",
            "roof_area                    0\n",
            "overall_height               0\n",
            "orientation                  0\n",
            "glazing_area                 0\n",
            "glazing_area_distribution    0\n",
            "heating_load                 0\n",
            "cooling_load                 0\n",
            "dtype: int64\n",
            "\n",
            "General Statistic: \n",
            "relative_compactness         0\n",
            "surface_area                 0\n",
            "wall_area                    0\n",
            "roof_area                    0\n",
            "overall_height               0\n",
            "orientation                  0\n",
            "glazing_area                 0\n",
            "glazing_area_distribution    0\n",
            "heating_load                 0\n",
            "cooling_load                 0\n",
            "dtype: int64\n"
          ]
        }
      ],
      "source": [
        "\n",
        "print(\"First 5 rows: \")\n",
        "print(energy_df.head())\n",
        "\n",
        "print(\"\\nNumber of rows and columns: \")\n",
        "print(energy_df.shape)\n",
        "\n",
        "print(\"\\nData type of each column: \")\n",
        "print(energy_df.dtypes)\n",
        "\n",
        "print(\"\\nNumber of null values: \")\n",
        "print(energy_df.isnull().sum())\n",
        "\n",
        "print(\"\\nGeneral Statistic: \")\n",
        "print(energy_df.isnull().sum())\n",
        "\n"
      ]
    },
    {
      "cell_type": "markdown",
      "metadata": {
        "id": "QN_1m6MQOpye"
      },
      "source": [
        "### Data cleaning"
      ]
    },
    {
      "cell_type": "markdown",
      "source": [
        "The default column names are not very descriptive. Rename the columns according to this mapping of names adapted from the data set description.\n",
        "\n",
        "```python\n",
        "{\n",
        "    'X1': 'relative_compactness',\n",
        "    'X2': 'surface_area',\n",
        "    'X3': 'wall_area',\n",
        "    'X4': 'roof_area',\n",
        "    'X5': 'overall_height',\n",
        "    'X6': 'orientation',\n",
        "    'X7': 'glazing_area',\n",
        "    'X8': 'glazing_area_distribution',\n",
        "    'Y1': 'heating_load',\n",
        "    'Y2': 'cooling_load',\n",
        "}\n",
        "```\n",
        "\n",
        "---\n",
        "**Hints**\n",
        "- [`pandas.DataFrame.rename()`](https://pandas.pydata.org/docs/reference/api/pandas.DataFrame.rename.html)"
      ],
      "metadata": {
        "id": "JfRXz3LgBC0m"
      }
    },
    {
      "cell_type": "code",
      "source": [
        "\n",
        "energy_df = energy_df.rename(columns=\n",
        "    {\n",
        "      'X1': 'relative_compactness',\n",
        "      'X2': 'surface_area',\n",
        "      'X3': 'wall_area',\n",
        "      'X4': 'roof_area',\n",
        "      'X5': 'overall_height',\n",
        "      'X6': 'orientation',\n",
        "      'X7': 'glazing_area',\n",
        "      'X8': 'glazing_area_distribution',\n",
        "      'Y1': 'heating_load',\n",
        "      'Y2': 'cooling_load',\n",
        "    }\n",
        "\n",
        "    )"
      ],
      "metadata": {
        "id": "oColFYUCACMI"
      },
      "execution_count": null,
      "outputs": []
    },
    {
      "cell_type": "markdown",
      "source": [
        "The variables `\"orientation\"` and `\"glazing_area_distribution\"` are categorical variables which currently have numeric indicies. Convert this index values into more descriptive names using this mapping.\n",
        "\n",
        "\n",
        "```python\n",
        "{\n",
        "    0: 'No glazing',\n",
        "    1: 'Uniformly distributed',\n",
        "    2: 'North',\n",
        "    3: 'East',\n",
        "    4: 'South',\n",
        "    5: 'West'\n",
        "}\n",
        "```\n",
        "\n",
        "---\n",
        "**Hints**\n",
        "\n",
        "- [`pandas.Series.replace()`](https://pandas.pydata.org/docs/reference/api/pandas.Series.replace.html)"
      ],
      "metadata": {
        "id": "SGqOnroIBCHR"
      }
    },
    {
      "cell_type": "code",
      "source": [
        "\n",
        "energy_df['orientation'] = energy_df['orientation'].replace({\n",
        "    0: 'No glazing',\n",
        "    1: 'Uniformly distributed',\n",
        "    2: 'North',\n",
        "    3: 'East',\n",
        "    4: 'South',\n",
        "    5: 'West'\n",
        "})\n",
        "\n",
        "energy_df['glazing_area_distribution'] = energy_df['glazing_area_distribution'].replace({\n",
        "    0: 'No glazing',\n",
        "    1: 'Uniformly distributed',\n",
        "    2: 'North',\n",
        "    3: 'East',\n",
        "    4: 'South',\n",
        "    5: 'West'\n",
        "})"
      ],
      "metadata": {
        "id": "2C3V1Fp6Ahp6"
      },
      "execution_count": null,
      "outputs": []
    },
    {
      "cell_type": "markdown",
      "source": [
        "### Data Visualization and Statistics"
      ],
      "metadata": {
        "id": "KljJqv8mRf2v"
      }
    },
    {
      "cell_type": "markdown",
      "source": [
        "Our model will attempt to predict `\"heating_load\"` with 2 categorical variables `\"orientation\"` & `\"glazing_area_distribution\"`, and 2 numeric variables `\"surface_area\"` & `\"wall_area\"`.\n",
        "\n",
        "1. First, we will create graphs to **visualize** the relationship between each of these variables and the heating load.\n",
        "\n",
        "2. Second, we will do some **statistical tests** to determine if each individual variable has a statistically significant relationship with heating load.\n",
        "\n",
        "These steps will help us determine which features to use in the model.\n"
      ],
      "metadata": {
        "id": "JEQiECHff9kj"
      }
    },
    {
      "cell_type": "markdown",
      "source": [
        "#### Visualizations"
      ],
      "metadata": {
        "id": "ROdkO3UrPQqo"
      }
    },
    {
      "cell_type": "markdown",
      "source": [
        "Create plots to visualize the relationship of each of the four variables with heating load. For each graph the Y-axis should be heating load `y=\"heating_load\"`, and the X-axis should be the other variable. Create box plots for the categorical variables and scatter plots for the numeric variables.\n",
        "\n",
        "\n",
        "---\n",
        "**Hints**\n",
        "- [`seaborn.boxplot()`](https://seaborn.pydata.org/generated/seaborn.boxplot.html)\n",
        "- [`seaborn.scatterplot()`](https://seaborn.pydata.org/generated/seaborn.scatterplot.html)\n",
        "\n"
      ],
      "metadata": {
        "id": "HkOL9VzUPS3R"
      }
    },
    {
      "cell_type": "code",
      "source": [
        "\n",
        "# orientation vs heating_load\n",
        "plt.figure()\n",
        "sns.boxplot(x='orientation', y='heating_load', data=energy_df)\n",
        "plt.show()\n",
        "\n",
        "# glazing_area_distribution vs heating_load\n",
        "plt.figure()\n",
        "sns.boxplot(x='glazing_area_distribution', y='heating_load', data=energy_df)\n",
        "plt.show()\n",
        "\n",
        " # surface_area\n",
        "plt.figure()\n",
        "sns.scatterplot(x='surface_area', y='heating_load', data=energy_df)\n",
        "plt.show()\n",
        "\n",
        "#wall_area\n",
        "plt.figure()\n",
        "sns.scatterplot(x='wall_area', y='heating_load', data=energy_df)\n",
        "plt.show()\n",
        "\n",
        "\n",
        "\n"
      ],
      "metadata": {
        "id": "oAT6QM6POaBJ",
        "colab": {
          "base_uri": "https://localhost:8080/",
          "height": 1000
        },
        "outputId": "0bb6e383-1e0c-4d3b-f3d1-e72efd15b93e"
      },
      "execution_count": null,
      "outputs": [
        {
          "output_type": "display_data",
          "data": {
            "text/plain": [
              "<Figure size 640x480 with 1 Axes>"
            ],
            "image/png": "[encoded data removed]"
          },
          "metadata": {}
        },
        {
          "output_type": "display_data",
          "data": {
            "text/plain": [
              "<Figure size 640x480 with 1 Axes>"
            ],
            "image/png": "[encoded data removed]"
          },
          "metadata": {}
        },
        {
          "output_type": "display_data",
          "data": {
            "text/plain": [
              "<Figure size 640x480 with 1 Axes>"
            ],
            "image/png": "[encoded data removed]"
          },
          "metadata": {}
        },
        {
          "output_type": "display_data",
          "data": {
            "text/plain": [
              "<Figure size 640x480 with 1 Axes>"
            ],
            "image/png": "[encoded data removed]"
          },
          "metadata": {}
        }
      ]
    },
    {
      "cell_type": "markdown",
      "source": [
        "#### Statistics"
      ],
      "metadata": {
        "id": "oMAc72GhPUrb"
      }
    },
    {
      "cell_type": "code",
      "source": [
        "import statsmodels.api as sm\n",
        "from statsmodels.formula.api import ols"
      ],
      "metadata": {
        "id": "Uh7ucgvGS1Pj"
      },
      "execution_count": null,
      "outputs": []
    },
    {
      "cell_type": "markdown",
      "source": [
        "Run statistical tests to analyze the relationship of each of the four variables with heating load. Each test will result in a p-value to determine if the relationship is statistically significant, which is an indiciation that would be a useful feature for the model. Run *ANOVA for the categorical* variables and *OLS for the numeric variables*. Print out F-statistic and p-value of each test.\n",
        "\n",
        "---\n",
        "**Hints**\n",
        "- [`statsmodels.formula.api.ols()`](https://www.statsmodels.org/stable/generated/statsmodels.formula.api.ols.html)\n",
        "- [`statsmodels.stats.anova.anova_lm()`](https://www.statsmodels.org/stable/generated/statsmodels.stats.anova.anova_lm.html)\n"
      ],
      "metadata": {
        "id": "cjxYdyIBPedK"
      }
    },
    {
      "cell_type": "code",
      "source": [
        "# Answer with code here\n",
        "\n",
        "modelOrientation = sm.formula.ols('heating_load ~ C(orientation)',data=energy_df).fit()\n",
        "anovaOrientation = sm.stats.anova_lm(modelOrientation)\n",
        "print(\"F-statistic & P-value of orientation: \\n\")\n",
        "print(anovaOrientation[['F', 'PR(>F)']])\n",
        "\n",
        "modelGlazing = sm.formula.ols('heating_load ~ C(glazing_area_distribution)',data=energy_df).fit()\n",
        "anovaGlazing = sm.stats.anova_lm(modelGlazing)\n",
        "print(\"F-statistic & P-value of glazing area distribution: \\n\")\n",
        "print(anovaGlazing[['F', 'PR(>F)']])\n",
        "\n",
        "modelSA = sm.formula.ols('heating_load ~ surface_area',data=energy_df).fit()\n",
        "print(\"Surface Area: \\n\")\n",
        "print(f\"F-statistic: {modelSA.fvalue:.4f}, p-value: {modelSA.f_pvalue:.4f}\")\n",
        "\n",
        "modelWA = sm.formula.ols('heating_load ~ wall_area',data=energy_df).fit()\n",
        "print(\"Wall Area: \\n\")\n",
        "print(f\"F-statistic: {modelWA.fvalue:.4f}, p-value: {modelWA.f_pvalue:.4f}\")\n",
        "\n",
        "\n",
        "\n"
      ],
      "metadata": {
        "id": "7oSTbYWXOb1Q",
        "colab": {
          "base_uri": "https://localhost:8080/"
        },
        "outputId": "bef95886-0532-4101-ba73-86b9b7a73737"
      },
      "execution_count": null,
      "outputs": [
        {
          "output_type": "stream",
          "name": "stdout",
          "text": [
            "F-statistic & P-value of orientation: \n",
            "\n",
            "                       F    PR(>F)\n",
            "C(orientation)  0.005436  0.999448\n",
            "Residual             NaN       NaN\n",
            "F-statistic & P-value of glazing area distribution: \n",
            "\n",
            "                                     F    PR(>F)\n",
            "C(glazing_area_distribution)  6.740745  0.000004\n",
            "Residual                           NaN       NaN\n",
            "Surface Area: \n",
            "\n",
            "F-statistic: 585.2613, p-value: 0.0000\n",
            "Wall Area: \n",
            "\n",
            "F-statistic: 200.7277, p-value: 0.0000\n"
          ]
        }
      ]
    },
    {
      "cell_type": "markdown",
      "source": [
        "## Models"
      ],
      "metadata": {
        "id": "3iHwZwOmVDk3"
      }
    },
    {
      "cell_type": "markdown",
      "source": [
        "Create a linear regression model using only the variables that showed a significant effect on heating load based on the p-values calculated above. Compare the results of doing this with the Statsmodels vs. Scikit-Learn."
      ],
      "metadata": {
        "id": "GVB4iTEVCEXi"
      }
    },
    {
      "cell_type": "markdown",
      "source": [
        "#### Statsmodels"
      ],
      "metadata": {
        "id": "YzoycwNntpln"
      }
    },
    {
      "cell_type": "markdown",
      "source": [
        "Create an [OLS](https://en.wikipedia.org/wiki/Ordinary_least_squares) linear regression model using the Statsmodels package to predict heating load using only the signifant variables from the EDA analysis. Then print out the model summary.\n",
        "\n",
        "---\n",
        "**Hints**\n",
        "\n",
        "- [`statsmodels.formula.api.ols()`]()\n",
        "    - Use this to run the linear regression\n",
        "- [`statsmodels.regression.linear_model.RegressionResults.summary()`](https://www.statsmodels.org/stable/generated/statsmodels.regression.linear_model.RegressionResults.html#statsmodels.regression.linear_model.RegressionResults)\n",
        "    - This is the type of object it returns. Run the `.summary()` method to print out the model summary."
      ],
      "metadata": {
        "id": "MwGbQMTdPQ-f"
      }
    },
    {
      "cell_type": "code",
      "source": [
        "# Answer with code here\n",
        "#glazing_area_distribution\n",
        "#Surface area\n",
        "#wall area\n",
        "\n",
        "smModel = sm.formula.ols('heating_load ~ C(glazing_area_distribution) + surface_area + wall_area',data=energy_df).fit()\n",
        "print(smModel.summary())\n"
      ],
      "metadata": {
        "id": "EtCqAsBciXFV",
        "colab": {
          "base_uri": "https://localhost:8080/"
        },
        "outputId": "24d93119-388b-4ff4-bc33-b82ed572ac4b"
      },
      "execution_count": null,
      "outputs": [
        {
          "output_type": "stream",
          "name": "stdout",
          "text": [
            "                            OLS Regression Results                            \n",
            "==============================================================================\n",
            "Dep. Variable:           heating_load   R-squared:                       0.830\n",
            "Model:                            OLS   Adj. R-squared:                  0.829\n",
            "Method:                 Least Squares   F-statistic:                     532.0\n",
            "Date:                Tue, 01 Oct 2024   Prob (F-statistic):          6.62e-288\n",
            "Time:                        16:29:04   Log-Likelihood:                -2183.0\n",
            "No. Observations:                 768   AIC:                             4382.\n",
            "Df Residuals:                     760   BIC:                             4419.\n",
            "Df Model:                           7                                         \n",
            "Covariance Type:            nonrobust                                         \n",
            "=========================================================================================================================\n",
            "                                                            coef    std err          t      P>|t|      [0.025      0.975]\n",
            "-------------------------------------------------------------------------------------------------------------------------\n",
            "Intercept                                                37.7035      1.496     25.201      0.000      34.767      40.640\n",
            "C(glazing_area_distribution)[T.No glazing]               -8.3950      0.696    -12.070      0.000      -9.760      -7.030\n",
            "C(glazing_area_distribution)[T.North]                     0.2530      0.492      0.514      0.607      -0.713       1.218\n",
            "C(glazing_area_distribution)[T.South]                     0.2052      0.492      0.417      0.677      -0.760       1.171\n",
            "C(glazing_area_distribution)[T.Uniformly distributed]     0.3447      0.492      0.701      0.484      -0.621       1.310\n",
            "C(glazing_area_distribution)[T.West]                     -0.0006      0.492     -0.001      0.999      -0.966       0.965\n",
            "surface_area                                             -0.0890      0.002    -51.017      0.000      -0.092      -0.086\n",
            "wall_area                                                 0.1405      0.004     39.897      0.000       0.134       0.147\n",
            "==============================================================================\n",
            "Omnibus:                       95.286   Durbin-Watson:                   0.444\n",
            "Prob(Omnibus):                  0.000   Jarque-Bera (JB):              157.361\n",
            "Skew:                           0.810   Prob(JB):                     6.75e-35\n",
            "Kurtosis:                       4.515   Cond. No.                     7.51e+03\n",
            "==============================================================================\n",
            "\n",
            "Notes:\n",
            "[1] Standard Errors assume that the covariance matrix of the errors is correctly specified.\n",
            "[2] The condition number is large, 7.51e+03. This might indicate that there are\n",
            "strong multicollinearity or other numerical problems.\n"
          ]
        }
      ]
    },
    {
      "cell_type": "markdown",
      "source": [
        "#### Scikit-Learn"
      ],
      "metadata": {
        "id": "o9usi8FetsMc"
      }
    },
    {
      "cell_type": "markdown",
      "source": [
        "Create a linear regression model using Scikit Learn to predict heating load using only the signifant variables from the EDA analysis. Then print out the coefficients and intercept of the model.\n",
        "\n",
        "---\n",
        "**Hints**\n",
        "- [`sklearn.preprocessing.OneHotEncoder`](https://scikit-learn.org/stable/modules/generated/sklearn.preprocessing.OneHotEncoder.html)\n",
        "- [`sklearn.linear_model.LinearRegression`](https://scikit-learn.org/stable/modules/generated/sklearn.linear_model.LinearRegression.html)\n"
      ],
      "metadata": {
        "id": "8adJdgB0YsZf"
      }
    },
    {
      "cell_type": "code",
      "source": [
        "from sklearn.linear_model import LinearRegression\n",
        "from sklearn.preprocessing import OneHotEncoder\n",
        "\n",
        "encoder = OneHotEncoder(drop='first',sparse_output=False)\n",
        "encoderGlazing = encoder.fit_transform(energy_df[['glazing_area_distribution']])\n",
        "\n",
        "glazing = pd.DataFrame(encoderGlazing,columns=encoder.get_feature_names_out(['glazing_area_distribution']))\n",
        "x = pd.concat([glazing, energy_df[['surface_area', 'wall_area']]], axis=1)\n",
        "y = energy_df['heating_load']\n",
        "\n",
        "model = LinearRegression()\n",
        "model.fit(x, y)\n",
        "\n",
        "\n",
        "print(\"Coefficients:\", model.coef_)\n",
        "print(\"Intercept (Scikit-Learn):\", model.intercept_)\n"
      ],
      "metadata": {
        "id": "i8_VdgaoCEI7",
        "colab": {
          "base_uri": "https://localhost:8080/"
        },
        "outputId": "9c0495b0-592a-4ab1-beb5-f7681c714b73"
      },
      "execution_count": null,
      "outputs": [
        {
          "output_type": "stream",
          "name": "stdout",
          "text": [
            "Coefficients: [-8.39500000e+00  2.52986111e-01  2.05208333e-01  3.44652778e-01\n",
            " -5.55555556e-04 -8.89931078e-02  1.40519232e-01]\n",
            "Intercept (Scikit-Learn): 37.703495204319516\n"
          ]
        }
      ]
    },
    {
      "cell_type": "markdown",
      "source": [
        "Calculate the predictions of both models on the training data set. Then calculate the mean absolute error (MAE) and root mean squared error (RMSE) of those predictions.\n",
        "\n",
        "---\n",
        "**Hints**\n",
        "\n",
        "- [`statsmodels.base.model.Model.predict()`](https://www.statsmodels.org/stable/dev/generated/statsmodels.base.model.Model.html#statsmodels.base.model.Model)\n",
        "- [`sklearn.linear_model.LinearRegression.predict()`](https://scikit-learn.org/stable/modules/generated/sklearn.linear_model.LinearRegression.html)\n",
        "- [`sklearn.metrics.mean_absolute_error()`](https://scikit-learn.org/stable/modules/generated/sklearn.metrics.mean_absolute_error.html)\n",
        "- [`sklearn.metrics.mean_squared_error()`](https://scikit-learn.org/stable/modules/generated/sklearn.metrics.mean_squared_error.html)\n"
      ],
      "metadata": {
        "id": "n8jwsLodQrKs"
      }
    },
    {
      "cell_type": "code",
      "source": [
        "from sklearn.metrics import mean_squared_error, mean_absolute_error"
      ],
      "metadata": {
        "id": "BrC5-MIIc3KN"
      },
      "execution_count": null,
      "outputs": []
    },
    {
      "cell_type": "code",
      "source": [
        "import statsmodels.formula.api as sm\n",
        "predict_x = model.predict(x)\n",
        "\n",
        "mean = mean_absolute_error(y,predict_x)\n",
        "sqrt= np.sqrt(mean_squared_error(y,predict_x))\n",
        "model_stats = sm.ols('heating_load ~ C(glazing_area_distribution) + surface_area + wall_area', data=energy_df).fit()\n",
        "\n",
        "print(f\"Model - MAE: {mean}\")\n",
        "print(f\"Model - RMSE: {sqrt}\")\n",
        "\n",
        "statPredict = model_stats.predict(energy_df[['glazing_area_distribution', 'surface_area', 'wall_area']])\n",
        "\n",
        "statMean = mean_absolute_error(y, statPredict)\n",
        "statSqrt = np.sqrt(mean_squared_error(y,statPredict))\n",
        "\n",
        "print(f\"Statsmodels Model - MAE: {statMean}\")\n",
        "print(f\"Statsmodels Model - RMSE: {statSqrt}\")"
      ],
      "metadata": {
        "id": "Zt_QwjNPOiSk",
        "colab": {
          "base_uri": "https://localhost:8080/"
        },
        "outputId": "f70ba4a6-4ee6-4436-ab76-be0243da9e41"
      },
      "execution_count": null,
      "outputs": [
        {
          "output_type": "stream",
          "name": "stdout",
          "text": [
            "Model - MAE: 3.0129333243253718\n",
            "Model - RMSE: 4.151521650398644\n",
            "Statsmodels Model - MAE: 3.012933324325274\n",
            "Statsmodels Model - RMSE: 4.151521650398643\n"
          ]
        }
      ]
    },
    {
      "cell_type": "markdown",
      "source": [
        "## Conclusion"
      ],
      "metadata": {
        "id": "trgIgjqtVE3c"
      }
    },
    {
      "cell_type": "markdown",
      "source": [
        "**Which variables should a statistically significant relationship with heating load in the statistical tests? Does that match what is visualized in the graphs?**"
      ],
      "metadata": {
        "id": "5s8b5aIexY4m"
      }
    },
    {
      "cell_type": "markdown",
      "source": [
        ">\n",
        "\n",
        "The variable Glazing Area Distribution has a p-value lower than 0.05, indicating that it has a statistically significant relationship with heating load. In its box plot, it can be seen that no-glazing has a significant impact on reducing the heating load.\n",
        "\n",
        "The variable Surface Area has a p-value lower than 0.05, meaning that it is statistically significant. Its scatter plot shows that as the surface area decreases, the heating load also decreases.\n",
        "\n",
        "\n",
        "The variable Wall Area has a p-value lower than 0.05, indicating a statistically significant relationship with heating load. In its scatter plot, it shows that as the wall area increases, the heating load also increases.\n",
        "\n"
      ],
      "metadata": {
        "id": "Oc4n4ZxRxdBN"
      }
    },
    {
      "cell_type": "markdown",
      "source": [
        "**Evaluate the $R^2$, $p-value$, and $F-statistic$ from the multivariable OLS linear regression model. Do these value indicate that the model is a good fit to the data? Why or why not?**"
      ],
      "metadata": {
        "id": "3E1dIIGexYxi"
      }
    },
    {
      "cell_type": "markdown",
      "source": [
        "\n",
        "R-squared is 0.830, meaning that 83% of the variance in heating load is explained by the model. This high percentage suggests that the model is a good fit for the data. The overall p-value is very small, indicating that the model is statistically significant. The F-statistic value is fairly high, further suggesting that the model is statistically significant. In conclusion, the model is a good fit for the data.\n"
      ],
      "metadata": {
        "id": "xqV9xTUVCFnj"
      }
    },
    {
      "cell_type": "markdown",
      "source": [
        "**Evaluate the coefficients from both the Statsmodels OLS and Scikit Learn Linear Regression model. How similar are they? What are any differences?**"
      ],
      "metadata": {
        "id": "cst-3hNox7ec"
      }
    },
    {
      "cell_type": "markdown",
      "source": [
        ">\n",
        "\n",
        "The coefficients from the statmodels OLS and Scikit learn linear regression model are very similar the differences are: [intercept: 0.0015],[No glazing: 0.001], [Glazing-area-distribution (North): 0.000], [Glazing-area-distribution (South): 0.0008], [Glazing-area-distribution (Uniformly Distributed): 0.0003], [Glazing-area-distribution (west): 0.0004],[Surface Area: 0.0001],[Wall Area: 0.0001],  "
      ],
      "metadata": {
        "id": "s_s9OL9Ix7D5"
      }
    },
    {
      "cell_type": "markdown",
      "source": [
        "**Evaluate the mean absolute error (MAE) and root mean squared error (RMSE). Are those error values large or small values compared to the heating load variable we are trying to predict? Would you conclude the model is accurate? Why or why not?**"
      ],
      "metadata": {
        "id": "7m7ocEVA0bB3"
      }
    },
    {
      "cell_type": "markdown",
      "source": [
        ">\n",
        "\n",
        "The MAE value of 3.0129 and the RMSE value of 4.15 indicate the average difference between the predicted and actual heating load values. While the difference is not too large, the model appears to be fairly accurate overall.\n"
      ],
      "metadata": {
        "id": "Ku0fDsm_0a9d"
      }
    },
    {
      "cell_type": "code",
      "source": [],
      "metadata": {
        "id": "IyraDQxqOPux"
      },
      "execution_count": null,
      "outputs": []
    }
  ]
}